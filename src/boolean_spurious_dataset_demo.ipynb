{
 "cells": [
  {
   "cell_type": "code",
   "execution_count": 3,
   "metadata": {},
   "outputs": [],
   "source": [
    "from dataset import SpuriousBooleanSampling\n",
    "from utils import generate_parity_func\n",
    "import torch"
   ]
  },
  {
   "cell_type": "markdown",
   "metadata": {},
   "source": [
    "# Define Function"
   ]
  },
  {
   "cell_type": "code",
   "execution_count": 7,
   "metadata": {},
   "outputs": [],
   "source": [
    "#To use the dataset. We first need to have two functions: one for spurious and one for core\n",
    "#Here we use the example of parity function provided in our package\n",
    "#Here the input to the function \"generate_parity_func\" is the index of coordinates the parity function is defined on\n",
    "core_function = generate_parity_func([0,1,2])\n",
    "spurious_function = generate_parity_func([0,1])\n",
    "#or you can define your own boolean function. The function should take input as a boolean torch array and return the result as a boolean torch array.\n",
    "#for example, say we want define a boolean function that give +1 if sum of x is greater than 2 then the function should be defined as\n",
    "def example(x):\n",
    "    res = torch.sum(x, dim=1)\n",
    "    boolean_res = torch.where(res>=2, torch.tensor(1), torch.tensor(-1))\n",
    "    return boolean_res"
   ]
  },
  {
   "cell_type": "markdown",
   "metadata": {},
   "source": [
    "# Construct Dataset"
   ]
  },
  {
   "cell_type": "code",
   "execution_count": 12,
   "metadata": {},
   "outputs": [
    {
     "name": "stdout",
     "output_type": "stream",
     "text": [
      "Spurious function has bias ratio: 0.37059998512268066\n"
     ]
    }
   ],
   "source": [
    "# Params:\n",
    "# core_len: This is the number of variable the core function is defined on.\n",
    "# spurious_len: This is the number of variable the spurious function is defined on.\n",
    "# core_func, spurious_func: These are functions defined following the guidance above.\n",
    "# c: This is corresponding to the \\lambda in our paper also named counfounder strength.\n",
    "# sample_num: This is the number of training epochs drawn for one epoch. For efficiency reason, we implement it this way.\n",
    "# bypass_bias_check: if this parameter is set to true, we will check whether the spurious function is severly biased and report error if so.\n",
    "# We have 4 options for sampling_method. They are [\"pure\", \"on_request\", \"buffer\", \"auto\"]\n",
    "# \"pure\" the dataset is constructed when initalized. Which means the whole sample space is iterate through to get labels for \n",
    "# the spurious and core function. Thus if core_len + spurious_len is small (less than 30), we should choose \"pure\" to enhance efficiency.\n",
    "# \"on_request\" the dataset is constructed in-place. At each epoch we repetitively draw uniform random batch until we have enough sample that satisfy \n",
    "#  the distribution of D_\\lambda \n",
    "# \"buffer\": Not Implemented yet\n",
    "# \"auto\": if spurious length len less 15 we use pure otherwise we use on_request\n",
    "\n",
    "#IMPORTANT: The dataset is currently constructed in a way different from the distribution we define in the paper (for efficiency reason). The distribution\n",
    "#is only identical to the distribution defined in paper if the spurious function is UNBIASED. Note this is true for all the\n",
    "#spurious function we studied in the paper. There should be an update to make the distribution identical to the distribution as\n",
    "#we defined in the paper soon, no matter the spurious function is unbiased or not. \n",
    "dataset = SpuriousBooleanSampling(core_len=10, spurious_len=10, \n",
    "                                  core_func=core_function, spurious_func=example, \n",
    "                                  c=0.9, sample_num=10000, batch_size=64,\n",
    "                                  sampling_method=\"pure\",\n",
    "                                  bypass_bias_check=False,\n",
    "                                  device=\"cpu\")"
   ]
  },
  {
   "cell_type": "code",
   "execution_count": 9,
   "metadata": {},
   "outputs": [
    {
     "name": "stdout",
     "output_type": "stream",
     "text": [
      "tensor([[-1., -1., -1.,  ...,  1., -1., -1.],\n",
      "        [-1., -1.,  1.,  ...,  1.,  1., -1.],\n",
      "        [-1.,  1.,  1.,  ..., -1., -1.,  1.],\n",
      "        ...,\n",
      "        [-1., -1.,  1.,  ...,  1.,  1., -1.],\n",
      "        [ 1., -1., -1.,  ...,  1.,  1.,  1.],\n",
      "        [ 1., -1., -1.,  ...,  1.,  1., -1.]])\n"
     ]
    }
   ],
   "source": [
    "for x, core_label, group_label, spurious_label in dataset:\n",
    "    print(x)\n",
    "    break"
   ]
  }
 ],
 "metadata": {
  "kernelspec": {
   "display_name": "cr",
   "language": "python",
   "name": "python3"
  },
  "language_info": {
   "codemirror_mode": {
    "name": "ipython",
    "version": 3
   },
   "file_extension": ".py",
   "mimetype": "text/x-python",
   "name": "python",
   "nbconvert_exporter": "python",
   "pygments_lexer": "ipython3",
   "version": "3.9.15"
  }
 },
 "nbformat": 4,
 "nbformat_minor": 2
}
